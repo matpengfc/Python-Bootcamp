{
 "cells": [
  {
   "cell_type": "markdown",
   "metadata": {},
   "source": [
    "## Background"
   ]
  },
  {
   "cell_type": "markdown",
   "metadata": {},
   "source": [
    "Using city and pet to create a band name generator"
   ]
  },
  {
   "cell_type": "markdown",
   "metadata": {},
   "source": [
    "## Code"
   ]
  },
  {
   "cell_type": "code",
   "execution_count": 1,
   "metadata": {},
   "outputs": [
    {
     "name": "stdout",
     "output_type": "stream",
     "text": [
      "Welcome to the Band Name Generator\n"
     ]
    }
   ],
   "source": [
    "# Create a greeting\n",
    "print(\"Welcome to the Band Name Generator\")"
   ]
  },
  {
   "cell_type": "code",
   "execution_count": 4,
   "metadata": {},
   "outputs": [
    {
     "name": "stdout",
     "output_type": "stream",
     "text": [
      "What's name of the city you grew up in? \n",
      "Perak\n"
     ]
    }
   ],
   "source": [
    "# Ask the user for the city that they grew up in.\n",
    "city = input(\"What's name of the city you grew up in? \\n\")"
   ]
  },
  {
   "cell_type": "code",
   "execution_count": 5,
   "metadata": {},
   "outputs": [
    {
     "name": "stdout",
     "output_type": "stream",
     "text": [
      "What's your pet's name? \n",
      "hyo rin\n"
     ]
    }
   ],
   "source": [
    "# Ask the user for the name of a pet\n",
    "pet = input(\"What's your pet's name? \\n\")"
   ]
  },
  {
   "cell_type": "code",
   "execution_count": 7,
   "metadata": {},
   "outputs": [
    {
     "name": "stdout",
     "output_type": "stream",
     "text": [
      "Your band name could be Perak hyo rin\n"
     ]
    }
   ],
   "source": [
    "# Combine the name of their city and pet and show them their band name\n",
    "print(\"Your band name could be \" + city + \" \" + pet)"
   ]
  }
 ],
 "metadata": {
  "kernelspec": {
   "display_name": "Python 3",
   "language": "python",
   "name": "python3"
  }
 },
 "nbformat": 4,
 "nbformat_minor": 4
}
